{
 "cells": [
  {
   "cell_type": "code",
   "execution_count": null,
   "id": "56355626",
   "metadata": {},
   "outputs": [],
   "source": [
    "### Import\n",
    "import numpy as np\n",
    "import skfuzzy as fz\n",
    "from skfuzzy import control as ctrl"
   ]
  },
  {
   "cell_type": "code",
   "execution_count": null,
   "id": "73202455",
   "metadata": {},
   "outputs": [],
   "source": [
    "### Xây dựng không gian nền tương ứng\n",
    "#Không gian nền số người trong phòng\n",
    "X = np.arange(1,11,1)\n",
    "#Không gian nền bồn\n",
    "Y = X\n",
    "#Không gian nền thời gian bơm\n",
    "Z = np.arange(0,31,1)"
   ]
  }
 ],
 "metadata": {
  "kernelspec": {
   "display_name": "Python 3 (ipykernel)",
   "language": "python",
   "name": "python3"
  },
  "language_info": {
   "codemirror_mode": {
    "name": "ipython",
    "version": 3
   },
   "file_extension": ".py",
   "mimetype": "text/x-python",
   "name": "python",
   "nbconvert_exporter": "python",
   "pygments_lexer": "ipython3",
   "version": "3.10.7"
  }
 },
 "nbformat": 4,
 "nbformat_minor": 5
}
