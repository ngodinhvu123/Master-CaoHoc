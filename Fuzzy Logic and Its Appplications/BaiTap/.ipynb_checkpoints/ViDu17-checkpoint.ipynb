{
 "cells": [
  {
   "cell_type": "code",
   "execution_count": 9,
   "id": "d6625347",
   "metadata": {},
   "outputs": [],
   "source": [
    "import numpy as np\n",
    "import skfuzzy as fz\n",
    "from skfuzzy import control as ctrl"
   ]
  },
  {
   "cell_type": "code",
   "execution_count": 10,
   "id": "79a3d372",
   "metadata": {},
   "outputs": [],
   "source": [
    "### Xây dựng không gian nền tương ứng\n",
    "X = np.arange(0,101,1)\n",
    "Y = X\n",
    "Z = np.array( [0,4,18,32,46,60] )"
   ]
  },
  {
   "cell_type": "code",
   "execution_count": 11,
   "id": "bbf7e241",
   "metadata": {},
   "outputs": [],
   "source": [
    "### Xác định tiền đề và kết luận\n",
    "D = ctrl.Antecedent( X,\"Độ bẩn\" )\n",
    "G = ctrl.Antecedent( Y,\"Lượng dầu mở\" )\n",
    "T = ctrl.Consequent( Z,\"Thời gian giặt\" )"
   ]
  },
  {
   "cell_type": "code",
   "execution_count": 12,
   "id": "144ee257",
   "metadata": {},
   "outputs": [],
   "source": [
    "### Các tập mờ\n",
    "D[\"Bẩn ít\"] = fz.trimf( D.universe,[0,0,50] )\n",
    "D[\"Trung bình\"] = fz.trimf( D.universe,[0,50,100] )\n",
    "D[\"Bẩn nhiều\"] = fz.trimf( D.universe,[50,100,100] )\n",
    "G[\"Dầu mở ít\"] = fz.trimf( G.universe,[0,0,50] )\n",
    "G[\"Dầu mở vừa phải\"] = fz.trimf( G.universe,[0,50,100] )\n",
    "G[\"Dầu mở nhiều\"] = fz.trimf( G.universe,[50,100,100] )\n",
    "T[\"Rất nhanh\"] = fz.trapmf( T.universe,[0,0,4,18] )\n",
    "T[\"Nhanh\"] = fz.trimf( T.universe,[4,18,32] )\n",
    "T[\"Trung bình\"] = fz.trimf( T.universe,[18,32,46] )\n",
    "T[\"Lâu\"] = fz.trimf( T.universe,[32,46,60] )\n",
    "T[\"Rất lâu\"] = fz.trimf( T.universe,[46,60,60] )"
   ]
  },
  {
   "cell_type": "code",
   "execution_count": 13,
   "id": "0547911f",
   "metadata": {},
   "outputs": [],
   "source": [
    "### Đưa các luật vào\n",
    "R1 = ctrl.Rule( D[\"Bẩn ít\"] & G[\"Dầu mở ít\"], T[\"Rất nhanh\"] )\n",
    "R2 = ctrl.Rule( D[\"Bẩn ít\"] & G[\"Dầu mở vừa phải\"], T[\"Trung bình\"] )\n",
    "R3 = ctrl.Rule( D[\"Bẩn ít\"] & G[\"Dầu mở nhiều\"], T[\"Lâu\"] )\n",
    "R4 = ctrl.Rule( D[\"Trung bình\"] & G[\"Dầu mở ít\"], T[\"Nhanh\"] )\n",
    "R5 = ctrl.Rule( D[\"Trung bình\"] & G[\"Dầu mở vừa phải\"], T[\"Trung bình\"] )\n",
    "R6 = ctrl.Rule( D[\"Trung bình\"] & G[\"Dầu mở nhiều\"], T[\"Lâu\"] )\n",
    "R7 = ctrl.Rule( D[\"Bẩn nhiều\"] & G[\"Dầu mở ít\"], T[\"Trung bình\"] )\n",
    "R8 = ctrl.Rule( D[\"Bẩn nhiều\"] & G[\"Dầu mở vừa phải\"], T[\"Lâu\"] )\n",
    "R9 = ctrl.Rule( D[\"Bẩn nhiều\"] & G[\"Dầu mở nhiều\"], T[\"Rất lâu\"] )\n",
    "### Tạo mô hình đề suy diễn\n",
    "model = ctrl.ControlSystemSimulation(ctrl.ControlSystem([R1,R2,R3,R4,R5,R6,R7,R8,R9]))"
   ]
  },
  {
   "cell_type": "code",
   "execution_count": 14,
   "id": "d5c52e30",
   "metadata": {},
   "outputs": [
    {
     "name": "stdout",
     "output_type": "stream",
     "text": [
      "Độ bẩn của áo quần: 40\n",
      "Lượng dầu mở dính : 60\n",
      "Với 40.00 độ bản và 60.00 lượng dầu mở trên áo quần, thời gian giặt là 36 phút\n"
     ]
    }
   ],
   "source": [
    "### Đưa dữ liệu vào để xử lý rồi xuất kết quả\n",
    "B = float(input( \"Độ bẩn của áo quần: \" ))\n",
    "C = float(input( \"Lượng dầu mở dính : \" ))\n",
    "model.input[\"Độ bẩn\"] = B\n",
    "model.input[\"Lượng dầu mở\"] = C\n",
    "model.compute()\n",
    "D = model.output[\"Thời gian giặt\"]\n",
    "print('Với %.2f độ bản và %.2f lượng dầu mở trên áo quần, thời gian giặt là %2.f phút' % (B,C,D) )"
   ]
  },
  {
   "cell_type": "code",
   "execution_count": null,
   "id": "0847a4f3",
   "metadata": {},
   "outputs": [],
   "source": []
  }
 ],
 "metadata": {
  "kernelspec": {
   "display_name": "Python 3 (ipykernel)",
   "language": "python",
   "name": "python3"
  },
  "language_info": {
   "codemirror_mode": {
    "name": "ipython",
    "version": 3
   },
   "file_extension": ".py",
   "mimetype": "text/x-python",
   "name": "python",
   "nbconvert_exporter": "python",
   "pygments_lexer": "ipython3",
   "version": "3.10.7"
  }
 },
 "nbformat": 4,
 "nbformat_minor": 5
}
