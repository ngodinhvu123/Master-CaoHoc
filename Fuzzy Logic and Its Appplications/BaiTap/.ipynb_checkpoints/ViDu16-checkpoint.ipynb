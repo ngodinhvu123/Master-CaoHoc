{
 "cells": [
  {
   "cell_type": "code",
   "execution_count": 1,
   "id": "bce23cd3",
   "metadata": {},
   "outputs": [],
   "source": [
    "import numpy as np\n",
    "import skfuzzy as fz\n",
    "from skfuzzy import control as ctrl"
   ]
  },
  {
   "cell_type": "code",
   "execution_count": 2,
   "id": "45688113",
   "metadata": {},
   "outputs": [],
   "source": [
    "### Xây dựng không gian nền tương ứng\n",
    "#Không gian nên dunh tích bể\n",
    "X = np.arange(0,2,0.1)\n",
    "#Không gian nền bồn\n",
    "Y = X\n",
    "#Không gian nền thời gian bơm\n",
    "Z = np.arange(0,31,1)"
   ]
  },
  {
   "cell_type": "code",
   "execution_count": 3,
   "id": "01c35bcf",
   "metadata": {},
   "outputs": [],
   "source": [
    "### Xác định tiền đề và kết luận\n",
    "C = ctrl.Antecedent( X,\"Bể\" )\n",
    "T = ctrl.Antecedent( Y,\"Bồn\" )\n",
    "G = ctrl.Consequent( Z,\"Thời gian\" )"
   ]
  },
  {
   "cell_type": "code",
   "execution_count": 12,
   "id": "4d8ff8b9",
   "metadata": {},
   "outputs": [],
   "source": [
    "### Các tập mờ bể\n",
    "C[\"Đầy\"] = fz.trimf( C.universe,[1,2,2] )\n",
    "C[\"Vừa\"] = fz.trimf( C.universe,[0,1,2] )\n",
    "C[\"Cạn\"] = fz.trimf( C.universe,[0,0,1] )\n",
    "#C.view()\n",
    "### các tập mở bồn\n",
    "T[\"Còn\"] = fz.trimf( T.universe,[1,2,2] )\n",
    "T[\"Gần hết\"] = fz.trimf( T.universe,[0,0,1] )\n",
    "#T.view()\n",
    "\n",
    "#Các tập mờ thời gian\n",
    "G[\"Lâu\"] = fz.trimf( G.universe,[20,30,30] )\n",
    "G[\"Vừa phải\"] = fz.trapmf( G.universe,[0,10,20,30] )\n",
    "G[\"Nhanh\"] = fz.trimf( G.universe,[0,0,10] )\n",
    "#G.view()"
   ]
  },
  {
   "cell_type": "code",
   "execution_count": null,
   "id": "0292f1e3",
   "metadata": {},
   "outputs": [],
   "source": [
    "### Đưa các luật vào\n",
    "R1 = ctrl.Rule( C[\"Đầy\"] & T[\"Còn\"], G[\"Nhanh\"] )\n",
    "R2 = ctrl.Rule( C[\"Vừa\"] & T[\"Còn\"], G[\"Nhanh\"] )\n",
    "R3 = ctrl.Rule( C[\"Cạn\"] & T[\"Còn\"], G[\"Nhanh\"] )\n",
    "R4 = ctrl.Rule( C[\"Đầy\"] & T[\"Gần hết\"], G[\"Lâu\"] )\n",
    "R5 = ctrl.Rule( C[\"Vừa\"] & T[\"Gần hết\"], G[\"Vừa phải\"] )\n",
    "R6 = ctrl.Rule( C[\"Cạn\"] & T[\"Gần hết\"], G[\"Nhanh\"] )\n",
    "### Tạo mô hình đề suy diễn\n",
    "model = ctrl.ControlSystemSimulation(ctrl.ControlSystem([R1,R2,R3,R4,R5,R6]))"
   ]
  },
  {
   "cell_type": "code",
   "execution_count": null,
   "id": "8e792836",
   "metadata": {},
   "outputs": [],
   "source": [
    "### Đưa dữ liệu vào để xử lý rồi xuất kết quả\n",
    "B = float(input( \"Dung tính bồn: \" ))\n",
    "C = float(input( \"Dung tích bể : \" ))\n",
    "model.input[\"Bồn\"] = B\n",
    "model.input[\"Bể\"] = C\n",
    "model.compute()\n",
    "D = model.output[\"Thời gian\"]\n",
    "print('Với %.2f độ bản và %.2f lượng dầu mở trên áo quần, thời gian giặt là %2.f phút' % (B,C,D) )\n",
    "T.view(model)"
   ]
  },
  {
   "cell_type": "markdown",
   "id": "ea6c79a1",
   "metadata": {},
   "source": [
    "#### "
   ]
  }
 ],
 "metadata": {
  "kernelspec": {
   "display_name": "Python 3 (ipykernel)",
   "language": "python",
   "name": "python3"
  },
  "language_info": {
   "codemirror_mode": {
    "name": "ipython",
    "version": 3
   },
   "file_extension": ".py",
   "mimetype": "text/x-python",
   "name": "python",
   "nbconvert_exporter": "python",
   "pygments_lexer": "ipython3",
   "version": "3.10.7"
  }
 },
 "nbformat": 4,
 "nbformat_minor": 5
}
